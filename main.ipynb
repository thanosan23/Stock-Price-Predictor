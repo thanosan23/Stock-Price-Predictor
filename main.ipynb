{
  "nbformat": 4,
  "nbformat_minor": 0,
  "metadata": {
    "colab": {
      "provenance": []
    },
    "kernelspec": {
      "name": "python3",
      "display_name": "Python 3"
    },
    "language_info": {
      "name": "python"
    },
    "accelerator": "GPU",
    "gpuClass": "standard"
  },
  "cells": [
    {
      "cell_type": "code",
      "execution_count": null,
      "metadata": {
        "colab": {
          "base_uri": "https://localhost:8080/"
        },
        "id": "gmqfFS_5jhES",
        "outputId": "34805b7a-6662-4e52-f409-3e2faa6130b4"
      },
      "outputs": [
        {
          "output_type": "stream",
          "name": "stdout",
          "text": [
            "Looking in indexes: https://pypi.org/simple, https://us-python.pkg.dev/colab-wheels/public/simple/\n",
            "Collecting yfinance\n",
            "  Downloading yfinance-0.2.3-py2.py3-none-any.whl (50 kB)\n",
            "\u001b[2K     \u001b[90m━━━━━━━━━━━━━━━━━━━━━━━━━━━━━━━━━━━━━━━━\u001b[0m \u001b[32m50.4/50.4 KB\u001b[0m \u001b[31m3.4 MB/s\u001b[0m eta \u001b[36m0:00:00\u001b[0m\n",
            "\u001b[?25hCollecting beautifulsoup4>=4.11.1\n",
            "  Downloading beautifulsoup4-4.11.1-py3-none-any.whl (128 kB)\n",
            "\u001b[2K     \u001b[90m━━━━━━━━━━━━━━━━━━━━━━━━━━━━━━━━━━━━━━━\u001b[0m \u001b[32m128.2/128.2 KB\u001b[0m \u001b[31m7.6 MB/s\u001b[0m eta \u001b[36m0:00:00\u001b[0m\n",
            "\u001b[?25hRequirement already satisfied: lxml>=4.9.1 in /usr/local/lib/python3.8/dist-packages (from yfinance) (4.9.2)\n",
            "Requirement already satisfied: multitasking>=0.0.7 in /usr/local/lib/python3.8/dist-packages (from yfinance) (0.0.11)\n",
            "Collecting cryptography>=3.3.2\n",
            "  Downloading cryptography-39.0.0-cp36-abi3-manylinux_2_24_x86_64.whl (4.1 MB)\n",
            "\u001b[2K     \u001b[90m━━━━━━━━━━━━━━━━━━━━━━━━━━━━━━━━━━━━━━━━\u001b[0m \u001b[32m4.1/4.1 MB\u001b[0m \u001b[31m41.4 MB/s\u001b[0m eta \u001b[36m0:00:00\u001b[0m\n",
            "\u001b[?25hRequirement already satisfied: pytz>=2022.5 in /usr/local/lib/python3.8/dist-packages (from yfinance) (2022.7)\n",
            "Collecting requests>=2.26\n",
            "  Downloading requests-2.28.1-py3-none-any.whl (62 kB)\n",
            "\u001b[2K     \u001b[90m━━━━━━━━━━━━━━━━━━━━━━━━━━━━━━━━━━━━━━━━\u001b[0m \u001b[32m62.8/62.8 KB\u001b[0m \u001b[31m8.4 MB/s\u001b[0m eta \u001b[36m0:00:00\u001b[0m\n",
            "\u001b[?25hRequirement already satisfied: numpy>=1.16.5 in /usr/local/lib/python3.8/dist-packages (from yfinance) (1.21.6)\n",
            "Collecting frozendict>=2.3.4\n",
            "  Downloading frozendict-2.3.4-cp38-cp38-manylinux_2_17_x86_64.manylinux2014_x86_64.whl (110 kB)\n",
            "\u001b[2K     \u001b[90m━━━━━━━━━━━━━━━━━━━━━━━━━━━━━━━━━━━━━━\u001b[0m \u001b[32m111.0/111.0 KB\u001b[0m \u001b[31m12.8 MB/s\u001b[0m eta \u001b[36m0:00:00\u001b[0m\n",
            "\u001b[?25hCollecting html5lib>=1.1\n",
            "  Downloading html5lib-1.1-py2.py3-none-any.whl (112 kB)\n",
            "\u001b[2K     \u001b[90m━━━━━━━━━━━━━━━━━━━━━━━━━━━━━━━━━━━━━━\u001b[0m \u001b[32m112.2/112.2 KB\u001b[0m \u001b[31m15.5 MB/s\u001b[0m eta \u001b[36m0:00:00\u001b[0m\n",
            "\u001b[?25hRequirement already satisfied: appdirs>=1.4.4 in /usr/local/lib/python3.8/dist-packages (from yfinance) (1.4.4)\n",
            "Requirement already satisfied: pandas>=1.3.0 in /usr/local/lib/python3.8/dist-packages (from yfinance) (1.3.5)\n",
            "Collecting soupsieve>1.2\n",
            "  Downloading soupsieve-2.3.2.post1-py3-none-any.whl (37 kB)\n",
            "Requirement already satisfied: cffi>=1.12 in /usr/local/lib/python3.8/dist-packages (from cryptography>=3.3.2->yfinance) (1.15.1)\n",
            "Requirement already satisfied: webencodings in /usr/local/lib/python3.8/dist-packages (from html5lib>=1.1->yfinance) (0.5.1)\n",
            "Requirement already satisfied: six>=1.9 in /usr/local/lib/python3.8/dist-packages (from html5lib>=1.1->yfinance) (1.15.0)\n",
            "Requirement already satisfied: python-dateutil>=2.7.3 in /usr/local/lib/python3.8/dist-packages (from pandas>=1.3.0->yfinance) (2.8.2)\n",
            "Requirement already satisfied: certifi>=2017.4.17 in /usr/local/lib/python3.8/dist-packages (from requests>=2.26->yfinance) (2022.12.7)\n",
            "Requirement already satisfied: charset-normalizer<3,>=2 in /usr/local/lib/python3.8/dist-packages (from requests>=2.26->yfinance) (2.1.1)\n",
            "Requirement already satisfied: urllib3<1.27,>=1.21.1 in /usr/local/lib/python3.8/dist-packages (from requests>=2.26->yfinance) (1.24.3)\n",
            "Requirement already satisfied: idna<4,>=2.5 in /usr/local/lib/python3.8/dist-packages (from requests>=2.26->yfinance) (2.10)\n",
            "Requirement already satisfied: pycparser in /usr/local/lib/python3.8/dist-packages (from cffi>=1.12->cryptography>=3.3.2->yfinance) (2.21)\n",
            "Installing collected packages: soupsieve, requests, html5lib, frozendict, cryptography, beautifulsoup4, yfinance\n",
            "  Attempting uninstall: requests\n",
            "    Found existing installation: requests 2.25.1\n",
            "    Uninstalling requests-2.25.1:\n",
            "      Successfully uninstalled requests-2.25.1\n",
            "  Attempting uninstall: html5lib\n",
            "    Found existing installation: html5lib 1.0.1\n",
            "    Uninstalling html5lib-1.0.1:\n",
            "      Successfully uninstalled html5lib-1.0.1\n",
            "  Attempting uninstall: beautifulsoup4\n",
            "    Found existing installation: beautifulsoup4 4.6.3\n",
            "    Uninstalling beautifulsoup4-4.6.3:\n",
            "      Successfully uninstalled beautifulsoup4-4.6.3\n",
            "Successfully installed beautifulsoup4-4.11.1 cryptography-39.0.0 frozendict-2.3.4 html5lib-1.1 requests-2.28.1 soupsieve-2.3.2.post1 yfinance-0.2.3\n"
          ]
        }
      ],
      "source": [
        "!pip install yfinance"
      ]
    },
    {
      "cell_type": "code",
      "source": [
        "# library for stock market data (Yahoo Finance)\n",
        "import yfinance as yf\n",
        "\n",
        "# libraries for data analysis\n",
        "import pandas as pd\n",
        "import numpy as np\n",
        "import matplotlib.pyplot as plt\n",
        "from sklearn.preprocessing import MinMaxScaler\n",
        "\n",
        "# libraries for timestamps\n",
        "from datetime import datetime\n",
        "\n",
        "# libraries for machine learning\n",
        "import torch\n",
        "import torch.nn as nn\n",
        "import torch.optim as optim"
      ],
      "metadata": {
        "id": "1hrpUdmPj7Cp"
      },
      "execution_count": null,
      "outputs": []
    },
    {
      "cell_type": "code",
      "source": [
        "# Use GPU if available, otherwise use the CPU\n",
        "device = torch.device('cuda' if torch.cuda.is_available() else 'cpu')\n",
        "print(f\"Using {device}\")"
      ],
      "metadata": {
        "colab": {
          "base_uri": "https://localhost:8080/"
        },
        "id": "1WFnFKJkzYFM",
        "outputId": "da4fa6a9-d64e-4cf5-c23d-6269dff62dec"
      },
      "execution_count": null,
      "outputs": [
        {
          "output_type": "stream",
          "name": "stdout",
          "text": [
            "Using cuda\n"
          ]
        }
      ]
    },
    {
      "cell_type": "code",
      "source": [
        "def download_data(stock, start_time, end_time):\n",
        "  \"\"\"\n",
        "  Download stock data using Yahoo Finance\n",
        "  \"\"\"\n",
        "  data = yf.download(stock, start_time, end_time)\n",
        "  print(f\"Downloaded data for {stock}\")\n",
        "  return data"
      ],
      "metadata": {
        "id": "GanDpDuqkA8L"
      },
      "execution_count": null,
      "outputs": []
    },
    {
      "cell_type": "code",
      "source": [
        "def plot_data(data):\n",
        "  \"\"\"\n",
        "  Plot stock closing prices\n",
        "  \"\"\"\n",
        "  plt.title(\"Stock Closing Prices\")\n",
        "  plt.plot(data['Close'])\n",
        "  plt.xlabel('Time')\n",
        "  plt.xticks(rotation=90)\n",
        "  plt.ylabel('Closing Price')\n",
        "  plt.show()"
      ],
      "metadata": {
        "id": "yh7MjNklkLNg"
      },
      "execution_count": null,
      "outputs": []
    },
    {
      "cell_type": "code",
      "source": [
        "# company that we will be attempting to predict\n",
        "company = 'ETSY'\n",
        "\n",
        "# gather data\n",
        "now = datetime.now()\n",
        "end = datetime(now.year - 1, now.month, now.day)\n",
        "start = datetime(end.year - 3, end.month, end.day) # gather 3 years worth of data\n",
        "\n",
        "# download the data\n",
        "stock_data = pd.DataFrame(download_data(company, start, end))"
      ],
      "metadata": {
        "colab": {
          "base_uri": "https://localhost:8080/"
        },
        "id": "6G3Bhl_5kQV0",
        "outputId": "a859e459-4aa2-4ade-d30c-d73b21710398"
      },
      "execution_count": null,
      "outputs": [
        {
          "output_type": "stream",
          "name": "stdout",
          "text": [
            "\r[*********************100%***********************]  1 of 1 completed\n",
            "Downloaded data for ETSY\n"
          ]
        }
      ]
    },
    {
      "cell_type": "code",
      "source": [
        "# plot the stock data\n",
        "plot_data(stock_data)"
      ],
      "metadata": {
        "colab": {
          "base_uri": "https://localhost:8080/",
          "height": 327
        },
        "id": "VpupqCcjkcQF",
        "outputId": "3603c055-127b-48f6-fb8a-cdde19e98873"
      },
      "execution_count": null,
      "outputs": [
        {
          "output_type": "display_data",
          "data": {
            "text/plain": [
              "<Figure size 432x288 with 1 Axes>"
            ],
            "image/png": "[encoded data removed]"
          },
          "metadata": {
            "needs_background": "light"
          }
        }
      ]
    },
    {
      "cell_type": "code",
      "source": [
        "# get the closing data\n",
        "dataset = pd.DataFrame(stock_data['Close'])\n",
        "\n",
        "# scale the date between 0 and 1\n",
        "scaler = MinMaxScaler(feature_range=(0, 1))\n",
        "scaled_data = scaler.fit_transform(dataset.values.reshape(-1, 1))"
      ],
      "metadata": {
        "id": "lNzIqTBukfOo"
      },
      "execution_count": null,
      "outputs": []
    },
    {
      "cell_type": "code",
      "source": [
        "# Extract the X_train and y_train data (consisting of 90-days worth of data)\n",
        "prediction_days = 90\n",
        "\n",
        "X_train = []\n",
        "y_train = []\n",
        "\n",
        "for i in range(prediction_days, len(scaled_data)):\n",
        "  X_train.append(scaled_data[i-prediction_days:i])\n",
        "  y_train.append(scaled_data[i, 0])\n",
        "\n",
        "# Convert to NumPy arrays and then to PyTorch tensors\n",
        "X_train = np.array(X_train)\n",
        "y_train = np.array(y_train)\n",
        "\n",
        "X_train = np.reshape(X_train, (X_train.shape[0], X_train.shape[1], 1))\n",
        "\n",
        "X_train = torch.from_numpy(X_train).type(torch.Tensor)\n",
        "y_train = torch.from_numpy(y_train).type(torch.Tensor)\n",
        "y_train = torch.unsqueeze(y_train, axis=1)\n",
        "\n",
        "# Put tensors onto the GPU\n",
        "X_train = X_train.to(device)\n",
        "y_train = y_train.to(device)"
      ],
      "metadata": {
        "id": "mAX4O6HDk3Tb"
      },
      "execution_count": null,
      "outputs": []
    },
    {
      "cell_type": "code",
      "source": [
        "# create the LSTM\n",
        "class LSTM(nn.Module):\n",
        "  def __init__(self, input_dim, output_dim, hidden_dim, n_layers):\n",
        "    super(LSTM, self).__init__()\n",
        "\n",
        "    self.hidden_dim = hidden_dim\n",
        "    self.n_layers = n_layers\n",
        "\n",
        "    # https://pytorch.org/docs/stable/generated/torch.nn.LSTM.html\n",
        "    self.lstm = nn.LSTM(input_dim, hidden_dim, n_layers, batch_first=True, dropout=0.2)\n",
        "\n",
        "    self.fc = nn.Linear(hidden_dim, output_dim)\n",
        "\n",
        "  def forward(self, x):\n",
        "    # h0 = hidden state, c0 = cell state\n",
        "    h0 = torch.zeros(self.n_layers, x.size(0), self.hidden_dim).to(device).requires_grad_()\n",
        "    c0 = torch.zeros(self.n_layers, x.size(0), self.hidden_dim).to(device).requires_grad_()\n",
        "\n",
        "    out, (hn, cn) = self.lstm(x, (h0.detach(), c0.detach()))\n",
        "\n",
        "    out = self.fc(out[:, -1, :])\n",
        "    \n",
        "    return out"
      ],
      "metadata": {
        "id": "EMbMbHsxlrzX"
      },
      "execution_count": null,
      "outputs": []
    },
    {
      "cell_type": "code",
      "source": [
        "# instantiate the model, and define the optimizer and the criterion (loss function)\n",
        "model = LSTM(1, 1, 53, 3)\n",
        "model = model.to(device) \n",
        "\n",
        "optimizer = optim.Adam(model.parameters(), lr=0.001)\n",
        "criterion = nn.MSELoss()"
      ],
      "metadata": {
        "id": "_Xfr1lAJm2ET"
      },
      "execution_count": null,
      "outputs": []
    },
    {
      "cell_type": "code",
      "source": [
        "# put the model into training mode\n",
        "model.train()\n",
        "\n",
        "# keep track of loss\n",
        "losses = []\n",
        "\n",
        "for i in range(500):\n",
        "  # predict and calculate the loss\n",
        "  y_train_pred = model(X_train).to(device)\n",
        "  loss = criterion(y_train_pred, y_train)\n",
        "  losses.append(loss.item())\n",
        "\n",
        "  if i % 10 == 0 and i != 0:\n",
        "    print(f\"Epoch: {i}, Loss: {loss.item()}\")\n",
        "  \n",
        "  # backward pass\n",
        "  optimizer.zero_grad()\n",
        "  loss.backward()\n",
        "  optimizer.step()"
      ],
      "metadata": {
        "colab": {
          "base_uri": "https://localhost:8080/"
        },
        "id": "p7Vui0vKnC69",
        "outputId": "e6a12c68-434f-4c3e-b41d-ac8bb27f672d"
      },
      "execution_count": null,
      "outputs": [
        {
          "output_type": "stream",
          "name": "stdout",
          "text": [
            "Epoch: 10, Loss: 0.06696831434965134\n",
            "Epoch: 20, Loss: 0.06418316811323166\n",
            "Epoch: 30, Loss: 0.05410873144865036\n",
            "Epoch: 40, Loss: 0.017500776797533035\n",
            "Epoch: 50, Loss: 0.009057323448359966\n",
            "Epoch: 60, Loss: 0.005538350902497768\n",
            "Epoch: 70, Loss: 0.004481600131839514\n",
            "Epoch: 80, Loss: 0.003806579392403364\n",
            "Epoch: 90, Loss: 0.003738445695489645\n",
            "Epoch: 100, Loss: 0.003289590124040842\n",
            "Epoch: 110, Loss: 0.0030830358155071735\n",
            "Epoch: 120, Loss: 0.003091561608016491\n",
            "Epoch: 130, Loss: 0.003081016708165407\n",
            "Epoch: 140, Loss: 0.003101210342720151\n",
            "Epoch: 150, Loss: 0.0028139082714915276\n",
            "Epoch: 160, Loss: 0.002748394850641489\n",
            "Epoch: 170, Loss: 0.0028135054744780064\n",
            "Epoch: 180, Loss: 0.0025538422632962465\n",
            "Epoch: 190, Loss: 0.0025294264778494835\n",
            "Epoch: 200, Loss: 0.0022809256333857775\n",
            "Epoch: 210, Loss: 0.0024081890005618334\n",
            "Epoch: 220, Loss: 0.0022801386658102274\n",
            "Epoch: 230, Loss: 0.0022257911041378975\n",
            "Epoch: 240, Loss: 0.0023918470833450556\n",
            "Epoch: 250, Loss: 0.0021953261457383633\n",
            "Epoch: 260, Loss: 0.002313337055966258\n",
            "Epoch: 270, Loss: 0.0021527709905058146\n",
            "Epoch: 280, Loss: 0.001940363086760044\n",
            "Epoch: 290, Loss: 0.0020972301717847586\n",
            "Epoch: 300, Loss: 0.0019785978365689516\n",
            "Epoch: 310, Loss: 0.001998016843572259\n",
            "Epoch: 320, Loss: 0.0018651647260412574\n",
            "Epoch: 330, Loss: 0.0020380679052323103\n",
            "Epoch: 340, Loss: 0.0018580888863652945\n",
            "Epoch: 350, Loss: 0.001897565321996808\n",
            "Epoch: 360, Loss: 0.001886917045339942\n",
            "Epoch: 370, Loss: 0.0018595840083435178\n",
            "Epoch: 380, Loss: 0.0019929769914597273\n",
            "Epoch: 390, Loss: 0.0018074004910886288\n",
            "Epoch: 400, Loss: 0.001626666635274887\n",
            "Epoch: 410, Loss: 0.0018503820756450295\n",
            "Epoch: 420, Loss: 0.0017960666446015239\n",
            "Epoch: 430, Loss: 0.001731682918034494\n",
            "Epoch: 440, Loss: 0.0017413287423551083\n",
            "Epoch: 450, Loss: 0.0016564142424613237\n",
            "Epoch: 460, Loss: 0.001693105441518128\n",
            "Epoch: 470, Loss: 0.0016335415421053767\n",
            "Epoch: 480, Loss: 0.0014783386141061783\n",
            "Epoch: 490, Loss: 0.0015633346047252417\n"
          ]
        }
      ]
    },
    {
      "cell_type": "code",
      "source": [
        "# Plot the model loss\n",
        "plt.title(\"Loss\")\n",
        "plt.plot(losses)\n",
        "plt.xlabel(\"Epoch\")\n",
        "plt.ylabel(\"MSE Loss\")"
      ],
      "metadata": {
        "colab": {
          "base_uri": "https://localhost:8080/",
          "height": 312
        },
        "id": "KS3Bu8NP2-yl",
        "outputId": "d4e1df7c-8072-49c5-dbd7-09a1fc31b964"
      },
      "execution_count": null,
      "outputs": [
        {
          "output_type": "execute_result",
          "data": {
            "text/plain": [
              "Text(0, 0.5, 'MSE Loss')"
            ]
          },
          "metadata": {},
          "execution_count": 34
        },
        {
          "output_type": "display_data",
          "data": {
            "text/plain": [
              "<Figure size 432x288 with 1 Axes>"
            ],
            "image/png": "[encoded data removed]"
          },
          "metadata": {
            "needs_background": "light"
          }
        }
      ]
    },
    {
      "cell_type": "code",
      "source": [
        "# create testing data\n",
        "now = datetime.now()\n",
        "end = datetime(now.year, now.month, now.day)\n",
        "start = datetime(end.year - 1, end.month, end.day)\n",
        "\n",
        "test_data = pd.DataFrame(download_data(company, start, end))"
      ],
      "metadata": {
        "colab": {
          "base_uri": "https://localhost:8080/"
        },
        "id": "5DiU-61vnjGr",
        "outputId": "257cddc3-a038-4744-d723-ecfdf4cfaea5"
      },
      "execution_count": null,
      "outputs": [
        {
          "output_type": "stream",
          "name": "stdout",
          "text": [
            "\r[*********************100%***********************]  1 of 1 completed\n",
            "Downloaded data for ETSY\n"
          ]
        }
      ]
    },
    {
      "cell_type": "code",
      "source": [
        "# get closing prices of the test data\n",
        "prices = test_data['Close'].values\n",
        "\n",
        "total_dataset = pd.concat((stock_data['Close'], test_data['Close']), axis=0)\n",
        "total_dataset"
      ],
      "metadata": {
        "colab": {
          "base_uri": "https://localhost:8080/"
        },
        "id": "esCLDpjkn3e7",
        "outputId": "79903fc6-08cb-4508-86bc-b8479e0d980e"
      },
      "execution_count": null,
      "outputs": [
        {
          "output_type": "execute_result",
          "data": {
            "text/plain": [
              "Date\n",
              "2018-12-12     57.430000\n",
              "2018-12-13     55.049999\n",
              "2018-12-14     54.340000\n",
              "2018-12-17     51.169998\n",
              "2018-12-18     51.849998\n",
              "                 ...    \n",
              "2022-12-05    137.210007\n",
              "2022-12-06    135.009995\n",
              "2022-12-07    130.130005\n",
              "2022-12-08    134.500000\n",
              "2022-12-09    126.779999\n",
              "Name: Close, Length: 1007, dtype: float64"
            ]
          },
          "metadata": {},
          "execution_count": 36
        }
      ]
    },
    {
      "cell_type": "code",
      "source": [
        "# create model inputs\n",
        "model_inputs = total_dataset[len(total_dataset)-len(test_data)-prediction_days:].values\n",
        "model_inputs = model_inputs.reshape(-1, 1)\n",
        "model_inputs = scaler.transform(model_inputs)"
      ],
      "metadata": {
        "id": "bQr7aJbHn5v2"
      },
      "execution_count": null,
      "outputs": []
    },
    {
      "cell_type": "code",
      "source": [
        "# Create testing dataset\n",
        "X_test = []\n",
        "\n",
        "for i in range(prediction_days, len(model_inputs)):\n",
        "  X_test.append(model_inputs[i-prediction_days:i, 0])\n",
        "\n",
        "X_test = np.array(X_test)\n",
        "X_test = np.reshape(X_test, (X_test.shape[0], X_test.shape[1], 1))\n",
        "X_test = torch.from_numpy(X_test).type(torch.Tensor)\n",
        "X_test = X_test.to(device)"
      ],
      "metadata": {
        "id": "bQ0ce4-Wn7Jq"
      },
      "execution_count": null,
      "outputs": []
    },
    {
      "cell_type": "code",
      "source": [
        "# put the model into evaluation mode\n",
        "model.eval()\n",
        "\n",
        "# make predictions\n",
        "with torch.no_grad():\n",
        "  predictions = model(X_test)\n",
        "\n",
        "  predictions = predictions.cpu().numpy()\n",
        "  predictions = scaler.inverse_transform(predictions)"
      ],
      "metadata": {
        "id": "oMVyo53uoOvM"
      },
      "execution_count": null,
      "outputs": []
    },
    {
      "cell_type": "code",
      "source": [
        "# Plot the predictions and the actual price\n",
        "plt.plot(prices, label='Actual Price')\n",
        "plt.plot(predictions, label='Predicted Price')\n",
        "plt.title(f\"{company} share price\")\n",
        "plt.xlabel(\"Time\")\n",
        "plt.ylabel(\"Company Share Price\")\n",
        "plt.legend()"
      ],
      "metadata": {
        "colab": {
          "base_uri": "https://localhost:8080/",
          "height": 312
        },
        "id": "iJooBkx2ogBD",
        "outputId": "90661858-080a-4e04-a839-94c55fe27b08"
      },
      "execution_count": null,
      "outputs": [
        {
          "output_type": "execute_result",
          "data": {
            "text/plain": [
              "<matplotlib.legend.Legend at 0x7f1101ec1ca0>"
            ]
          },
          "metadata": {},
          "execution_count": 40
        },
        {
          "output_type": "display_data",
          "data": {
            "text/plain": [
              "<Figure size 432x288 with 1 Axes>"
            ],
            "image/png": "[encoded data removed]"
          },
          "metadata": {
            "needs_background": "light"
          }
        }
      ]
    },
    {
      "cell_type": "code",
      "source": [
        "# predict the next business day's price\n",
        "real_data = [model_inputs[len(model_inputs) + 1 - prediction_days:len(model_inputs)+1, 0]]\n",
        "real_data = np.array(real_data)\n",
        "real_data = np.reshape(real_data, (real_data.shape[0], real_data.shape[1], 1))\n",
        "real_data = torch.from_numpy(real_data).type(torch.Tensor)\n",
        "real_data = real_data.to(device)\n",
        "\n",
        "with torch.no_grad():\n",
        "  prediction = model(real_data)\n",
        "  prediction = prediction.cpu().numpy()\n",
        "  prediction = scaler.inverse_transform(prediction)\n",
        "  print(f\"Prediction: {prediction}\")"
      ],
      "metadata": {
        "colab": {
          "base_uri": "https://localhost:8080/"
        },
        "id": "FuD8SBUZqaQ0",
        "outputId": "2814efc6-cc06-42c5-81c0-120adb57397f"
      },
      "execution_count": null,
      "outputs": [
        {
          "output_type": "stream",
          "name": "stdout",
          "text": [
            "Prediction: [[138.87584]]\n"
          ]
        }
      ]
    }
  ]
}
